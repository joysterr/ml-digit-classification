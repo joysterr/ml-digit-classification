{
  "nbformat": 4,
  "nbformat_minor": 0,
  "metadata": {
    "colab": {
      "provenance": [],
      "gpuType": "T4",
      "authorship_tag": "ABX9TyMJn/7RNFiUhu9jvpZ3a4F4",
      "include_colab_link": true
    },
    "kernelspec": {
      "name": "python3",
      "display_name": "Python 3"
    },
    "language_info": {
      "name": "python"
    },
    "accelerator": "GPU"
  },
  "cells": [
    {
      "cell_type": "markdown",
      "metadata": {
        "id": "view-in-github",
        "colab_type": "text"
      },
      "source": [
        "<a href=\"https://colab.research.google.com/github/joysterr/ml-digit-classification/blob/main/digit_classification_mnist.ipynb\" target=\"_parent\"><img src=\"https://colab.research.google.com/assets/colab-badge.svg\" alt=\"Open In Colab\"/></a>"
      ]
    },
    {
      "cell_type": "markdown",
      "source": [
        "# NNs to classify mnist dataset"
      ],
      "metadata": {
        "id": "a9qvlCurS3Zl"
      }
    },
    {
      "cell_type": "markdown",
      "source": [
        "## Imports"
      ],
      "metadata": {
        "id": "SbdfLCxmS_5H"
      }
    },
    {
      "cell_type": "code",
      "source": [
        "import os\n",
        "import cv2\n",
        "import numpy as np\n",
        "import matplotlib.pyplot as plt\n",
        "import tensorflow as tf"
      ],
      "metadata": {
        "id": "OxC6ubQcG2CV"
      },
      "execution_count": 1,
      "outputs": []
    },
    {
      "cell_type": "code",
      "source": [
        "from tensorflow.keras import layers"
      ],
      "metadata": {
        "id": "T9k0ZOtRIEnc"
      },
      "execution_count": 2,
      "outputs": []
    },
    {
      "cell_type": "markdown",
      "source": [
        "## Load mnist dataset"
      ],
      "metadata": {
        "id": "N0ZMIfSMTF0A"
      }
    },
    {
      "cell_type": "code",
      "source": [
        "mnist = tf.keras.datasets.mnist\n",
        "(x_train, y_train), (x_test, y_test) = mnist.load_data()"
      ],
      "metadata": {
        "colab": {
          "base_uri": "https://localhost:8080/"
        },
        "id": "VULrWN6nHFZT",
        "outputId": "f96807b5-1832-4fc0-8039-aca4b02defaa"
      },
      "execution_count": 3,
      "outputs": [
        {
          "output_type": "stream",
          "name": "stdout",
          "text": [
            "Downloading data from https://storage.googleapis.com/tensorflow/tf-keras-datasets/mnist.npz\n",
            "11490434/11490434 [==============================] - 0s 0us/step\n"
          ]
        }
      ]
    },
    {
      "cell_type": "code",
      "source": [
        "x_train = tf.keras.utils.normalize(x_train, axis=1)\n",
        "x_test = tf.keras.utils.normalize(x_test, axis=1)"
      ],
      "metadata": {
        "id": "1ivaRESbHh4z"
      },
      "execution_count": 4,
      "outputs": []
    },
    {
      "cell_type": "markdown",
      "source": [
        "## Define model architecture"
      ],
      "metadata": {
        "id": "tgKGfFP8TLhk"
      }
    },
    {
      "cell_type": "markdown",
      "source": [
        "### Basic Feed Forward NN"
      ],
      "metadata": {
        "id": "XfRqZJyfTTDS"
      }
    },
    {
      "cell_type": "code",
      "source": [
        "model_basic = tf.keras.models.Sequential([\n",
        "  layers.Flatten(input_shape=(28, 28)),\n",
        "  layers.Dense(128, activation='relu'),\n",
        "  layers.Dense(128, activation='relu'),\n",
        "  layers.Dense(10, activation='softmax')\n",
        "])"
      ],
      "metadata": {
        "id": "ykgitvcKH4Gd"
      },
      "execution_count": 5,
      "outputs": []
    },
    {
      "cell_type": "code",
      "source": [
        "model_basic.compile(optimizer='adam', loss='sparse_categorical_crossentropy', metrics=['accuracy'])"
      ],
      "metadata": {
        "id": "jrYVQtCLIyp3"
      },
      "execution_count": 6,
      "outputs": []
    },
    {
      "cell_type": "code",
      "source": [
        "hist_basic = model_basic.fit(x_train, y_train, epochs=1)"
      ],
      "metadata": {
        "colab": {
          "base_uri": "https://localhost:8080/"
        },
        "id": "7rtvGRQYvYVm",
        "outputId": "a4b2e2f0-c558-4673-a184-92b1fe836b53"
      },
      "execution_count": 7,
      "outputs": [
        {
          "output_type": "stream",
          "name": "stdout",
          "text": [
            "1875/1875 [==============================] - 9s 3ms/step - loss: 0.2640 - accuracy: 0.9219\n"
          ]
        }
      ]
    },
    {
      "cell_type": "code",
      "source": [
        "model_basic.save('basic_seq.model')"
      ],
      "metadata": {
        "id": "P-i3-Px6vaYd"
      },
      "execution_count": 8,
      "outputs": []
    },
    {
      "cell_type": "markdown",
      "source": [
        "### CNN model"
      ],
      "metadata": {
        "id": "Vo26DTNJka4a"
      }
    },
    {
      "cell_type": "code",
      "source": [
        "model_cnn = tf.keras.models.Sequential([\n",
        "  layers.Conv2D(32, kernel_size=(3, 3), activation='relu', input_shape=(28, 28, 1)),\n",
        "  layers.MaxPooling2D(pool_size=(2, 2)),\n",
        "  layers.Dropout(0.2),\n",
        "  layers.Conv2D(64, kernel_size=(3, 3), activation='relu'),\n",
        "  layers.MaxPooling2D(pool_size=(2, 2)),\n",
        "  layers.Dropout(0.2),\n",
        "  layers.Flatten(),\n",
        "  layers.Dense(128, activation='relu'),\n",
        "  layers.Dropout(0.2),\n",
        "  layers.Dense(10, activation='softmax')\n",
        "])"
      ],
      "metadata": {
        "id": "KhgGHG5glxAl"
      },
      "execution_count": 9,
      "outputs": []
    },
    {
      "cell_type": "code",
      "source": [
        "model_cnn.compile(optimizer='adam', loss='sparse_categorical_crossentropy', metrics=['accuracy'])"
      ],
      "metadata": {
        "id": "gw13EKcMoToH"
      },
      "execution_count": 10,
      "outputs": []
    },
    {
      "cell_type": "code",
      "source": [
        "hist_cnn = model_cnn.fit(x_train, y_train, epochs=5)"
      ],
      "metadata": {
        "colab": {
          "base_uri": "https://localhost:8080/"
        },
        "id": "qIRap8ECrsyz",
        "outputId": "87f760cb-1732-4005-fe93-d4e283030e3b"
      },
      "execution_count": 11,
      "outputs": [
        {
          "output_type": "stream",
          "name": "stdout",
          "text": [
            "Epoch 1/5\n",
            "1875/1875 [==============================] - 11s 4ms/step - loss: 0.2215 - accuracy: 0.9320\n",
            "Epoch 2/5\n",
            "1875/1875 [==============================] - 7s 4ms/step - loss: 0.0813 - accuracy: 0.9755\n",
            "Epoch 3/5\n",
            "1875/1875 [==============================] - 7s 4ms/step - loss: 0.0590 - accuracy: 0.9819\n",
            "Epoch 4/5\n",
            "1875/1875 [==============================] - 6s 3ms/step - loss: 0.0475 - accuracy: 0.9852\n",
            "Epoch 5/5\n",
            "1875/1875 [==============================] - 7s 4ms/step - loss: 0.0410 - accuracy: 0.9872\n"
          ]
        }
      ]
    },
    {
      "cell_type": "code",
      "source": [
        "model_cnn.save('model_cnn.model')"
      ],
      "metadata": {
        "id": "qIgutZ18xJ0l"
      },
      "execution_count": 12,
      "outputs": []
    },
    {
      "cell_type": "markdown",
      "source": [
        "## Evaluate models"
      ],
      "metadata": {
        "id": "j78gcT67Tmts"
      }
    },
    {
      "cell_type": "code",
      "source": [
        "def evaluate_model(model_name):\n",
        "  loss, accuracy = model_name.evaluate(x_test, y_test)\n",
        "  print('loss:' , loss)\n",
        "  print('accuracy: ', accuracy)\n",
        "\n",
        "evaluate_model(model_basic)\n",
        "evaluate_model(model_cnn)"
      ],
      "metadata": {
        "colab": {
          "base_uri": "https://localhost:8080/"
        },
        "id": "7W1ljDjrJffO",
        "outputId": "3ebf18f1-cbde-4b23-b627-018545b53cfb"
      },
      "execution_count": 14,
      "outputs": [
        {
          "output_type": "stream",
          "name": "stdout",
          "text": [
            "313/313 [==============================] - 1s 2ms/step - loss: 0.1282 - accuracy: 0.9608\n",
            "loss: 0.12817177176475525\n",
            "accuracy:  0.9607999920845032\n",
            "313/313 [==============================] - 1s 3ms/step - loss: 0.0285 - accuracy: 0.9905\n",
            "loss: 0.028464650735259056\n",
            "accuracy:  0.9904999732971191\n"
          ]
        }
      ]
    },
    {
      "cell_type": "markdown",
      "source": [
        "## Custom test data predictions"
      ],
      "metadata": {
        "id": "qVOBV-KELY-V"
      }
    },
    {
      "cell_type": "code",
      "source": [
        "def custom_digit_test(model):\n",
        "  img_num = 1\n",
        "  while os.path.isfile(f'digits/{img_num}.png'):\n",
        "    try:\n",
        "      img = cv2.imread(f'digits/{img_num}.png')[:,:,0]\n",
        "      img = np.invert(np.array([img]))\n",
        "      prediction = model.predict(img)\n",
        "      print(f'Digit is: {np.argmax(prediction)}')\n",
        "      plt.imshow(img[0], cmap=plt.cm.binary)\n",
        "      plt.show()\n",
        "    except:\n",
        "      print('error')\n",
        "    finally:\n",
        "      img_num += 1"
      ],
      "metadata": {
        "id": "a7CRl1MeLc0N"
      },
      "execution_count": 29,
      "outputs": []
    },
    {
      "cell_type": "code",
      "source": [
        "print('model basic: ')\n",
        "custom_digit_test(model_basic)\n",
        "print('model cnn: ')\n",
        "custom_digit_test(model_cnn)"
      ],
      "metadata": {
        "colab": {
          "base_uri": "https://localhost:8080/",
          "height": 1000
        },
        "id": "1niiCXZp3Vlj",
        "outputId": "5341ca14-5af0-4b76-f6f9-319e671eec01"
      },
      "execution_count": 30,
      "outputs": [
        {
          "output_type": "stream",
          "name": "stdout",
          "text": [
            "model basic: \n",
            "1/1 [==============================] - 0s 83ms/step\n",
            "Digit is: 7\n"
          ]
        },
        {
          "output_type": "display_data",
          "data": {
            "text/plain": [
              "<Figure size 640x480 with 1 Axes>"
            ],
            "image/png": "[encoded data removed]"
          },
          "metadata": {}
        },
        {
          "output_type": "stream",
          "name": "stdout",
          "text": [
            "1/1 [==============================] - 0s 17ms/step\n",
            "Digit is: 3\n"
          ]
        },
        {
          "output_type": "display_data",
          "data": {
            "text/plain": [
              "<Figure size 640x480 with 1 Axes>"
            ],
            "image/png": "[encoded data removed]"
          },
          "metadata": {}
        },
        {
          "output_type": "stream",
          "name": "stdout",
          "text": [
            "1/1 [==============================] - 0s 18ms/step\n",
            "Digit is: 3\n"
          ]
        },
        {
          "output_type": "display_data",
          "data": {
            "text/plain": [
              "<Figure size 640x480 with 1 Axes>"
            ],
            "image/png": "[encoded data removed]"
          },
          "metadata": {}
        },
        {
          "output_type": "stream",
          "name": "stdout",
          "text": [
            "model cnn: \n",
            "1/1 [==============================] - 0s 179ms/step\n",
            "Digit is: 2\n"
          ]
        },
        {
          "output_type": "display_data",
          "data": {
            "text/plain": [
              "<Figure size 640x480 with 1 Axes>"
            ],
            "image/png": "[encoded data removed]"
          },
          "metadata": {}
        },
        {
          "output_type": "stream",
          "name": "stdout",
          "text": [
            "1/1 [==============================] - 0s 18ms/step\n",
            "Digit is: 5\n"
          ]
        },
        {
          "output_type": "display_data",
          "data": {
            "text/plain": [
              "<Figure size 640x480 with 1 Axes>"
            ],
            "image/png": "[encoded data removed]"
          },
          "metadata": {}
        },
        {
          "output_type": "stream",
          "name": "stdout",
          "text": [
            "1/1 [==============================] - 0s 19ms/step\n",
            "Digit is: 7\n"
          ]
        },
        {
          "output_type": "display_data",
          "data": {
            "text/plain": [
              "<Figure size 640x480 with 1 Axes>"
            ],
            "image/png": "[encoded data removed]"
          },
          "metadata": {}
        }
      ]
    }
  ]
}